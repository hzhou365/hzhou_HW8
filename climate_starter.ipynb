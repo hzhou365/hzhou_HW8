{
 "cells": [
  {
   "cell_type": "code",
   "execution_count": 1,
   "metadata": {},
   "outputs": [],
   "source": [
    "%matplotlib inline\n",
    "from matplotlib import style\n",
    "style.use('fivethirtyeight')\n",
    "import matplotlib.pyplot as plt"
   ]
  },
  {
   "cell_type": "code",
   "execution_count": 2,
   "metadata": {},
   "outputs": [],
   "source": [
    "import numpy as np\n",
    "import pandas as pd"
   ]
  },
  {
   "cell_type": "code",
   "execution_count": 3,
   "metadata": {},
   "outputs": [],
   "source": [
    "import datetime as dt"
   ]
  },
  {
   "cell_type": "markdown",
   "metadata": {},
   "source": [
    "# Reflect Tables into SQLAlchemy ORM"
   ]
  },
  {
   "cell_type": "code",
   "execution_count": 4,
   "metadata": {},
   "outputs": [],
   "source": [
    "# Python SQL toolkit and Object Relational Mapper\n",
    "import sqlalchemy\n",
    "from sqlalchemy.ext.automap import automap_base\n",
    "from sqlalchemy.orm import Session\n",
    "from sqlalchemy import create_engine, func, inspect"
   ]
  },
  {
   "cell_type": "code",
   "execution_count": 5,
   "metadata": {},
   "outputs": [],
   "source": [
    "engine = create_engine(\"sqlite:///Resources/hawaii.sqlite\")"
   ]
  },
  {
   "cell_type": "code",
   "execution_count": 6,
   "metadata": {},
   "outputs": [],
   "source": [
    "# Reflect Database into ORM class\n",
    "Base = automap_base()\n",
    "Base.prepare(engine, reflect=True)"
   ]
  },
  {
   "cell_type": "code",
   "execution_count": 7,
   "metadata": {},
   "outputs": [
    {
     "data": {
      "text/plain": [
       "['measurement', 'station']"
      ]
     },
     "execution_count": 7,
     "metadata": {},
     "output_type": "execute_result"
    }
   ],
   "source": [
    "# We can view all of the classes that automap found\n",
    "Base.classes.keys()"
   ]
  },
  {
   "cell_type": "code",
   "execution_count": 8,
   "metadata": {},
   "outputs": [],
   "source": [
    "# Save references to each table\n",
    "Measurement = Base.classes.measurement\n",
    "Station = Base.classes.station"
   ]
  },
  {
   "cell_type": "code",
   "execution_count": 9,
   "metadata": {},
   "outputs": [],
   "source": [
    "# Create our session (link) from Python to the DB\n",
    "session = Session(engine)"
   ]
  },
  {
   "cell_type": "markdown",
   "metadata": {},
   "source": [
    "# Exploratory Climate Analysis"
   ]
  },
  {
   "cell_type": "code",
   "execution_count": 10,
   "metadata": {},
   "outputs": [
    {
     "name": "stdout",
     "output_type": "stream",
     "text": [
      "End date:  2017-08-23\n"
     ]
    },
    {
     "data": {
      "image/png": "[encoded data removed]",
      "text/plain": [
       "<Figure size 432x288 with 1 Axes>"
      ]
     },
     "metadata": {},
     "output_type": "display_data"
    }
   ],
   "source": [
    "#define function \"precipitation\"\n",
    "def precipitation():\n",
    "\n",
    "    # get information about Table \"Measurement\"\n",
    "    my_measurement=session.query(Measurement)\n",
    "    #for items in my_measurement:\n",
    "    #    print(items.date, items.prcp, items.station)\n",
    "\n",
    "    #inspector = inspect(engine)\n",
    "    #columns_in_M = inspector.get_columns('Measurement')\n",
    "    #for c in columns_in_M:\n",
    "    #    print(c['name'], c['type'])\n",
    "    \n",
    "    #columns_in_S = inspector.get_columns('Station')\n",
    "    #for c in columns_in_S:\n",
    "    #    print(c['name'], c['type'])\n",
    "    \n",
    "    # Design a query to retrieve the last 12 months of precipitation data and plot the results\n",
    "\n",
    "    # Latest Date in the table\n",
    "    Latest_Date = session.query(Measurement.date).order_by(Measurement.date.desc()).first()[0]\n",
    "    query_end_date=Latest_Date\n",
    "    print(f\"End date: \", query_end_date)\n",
    "\n",
    "    #query_end_date = session.query(Measurement.date).all()[-1][0]\n",
    "\n",
    "    # Calculate the date 1 year ago from the last data point in the database\n",
    "    query_start_date = dt.datetime.strptime(query_end_date, \"%Y-%m-%d\") - dt.timedelta(days=365)\n",
    "\n",
    "    # Perform a query to retrieve the data and precipitation scores\n",
    "    #print(\"----------------Perform a query to retrieve the data from start date to end date-----------\")\n",
    "    query_result=session.query(Measurement.date, Measurement.prcp).\\\n",
    "        filter(Measurement.date > query_start_date).\\\n",
    "        filter(Measurement.date <= query_end_date).all()\n",
    "\n",
    "    # Save the query results as a Pandas DataFrame and set the index to the date column\n",
    "    precipitation_df = pd.DataFrame(query_result, columns=['date', 'precipitation'])\n",
    "    precipitation_df.set_index('date', inplace=True)\n",
    "    #print(precipitation_df.head())\n",
    "\n",
    "    # Sort the dataframe by date\n",
    "    result1 = precipitation_df.sort_index(ascending=True)\n",
    "    #print(result1.head())\n",
    "\n",
    "    # Use Pandas Plotting with Matplotlib to plot the data\n",
    "    precipitation_df.plot()\n",
    "    #plt.tight_layout()\n",
    "    plt.show()\n",
    "\n",
    "    return precipitation_df\n",
    "\n",
    "#make the function call\n",
    "result_df = precipitation()"
   ]
  },
  {
   "cell_type": "markdown",
   "metadata": {},
   "source": [
    "![precipitation](Images/precipitation.png)"
   ]
  },
  {
   "cell_type": "code",
   "execution_count": 11,
   "metadata": {},
   "outputs": [
    {
     "data": {
      "text/html": [
       "<div>\n",
       "<style scoped>\n",
       "    .dataframe tbody tr th:only-of-type {\n",
       "        vertical-align: middle;\n",
       "    }\n",
       "\n",
       "    .dataframe tbody tr th {\n",
       "        vertical-align: top;\n",
       "    }\n",
       "\n",
       "    .dataframe thead th {\n",
       "        text-align: right;\n",
       "    }\n",
       "</style>\n",
       "<table border=\"1\" class=\"dataframe\">\n",
       "  <thead>\n",
       "    <tr style=\"text-align: right;\">\n",
       "      <th></th>\n",
       "      <th>precipitation</th>\n",
       "    </tr>\n",
       "  </thead>\n",
       "  <tbody>\n",
       "    <tr>\n",
       "      <th>count</th>\n",
       "      <td>2015.000000</td>\n",
       "    </tr>\n",
       "    <tr>\n",
       "      <th>mean</th>\n",
       "      <td>0.176462</td>\n",
       "    </tr>\n",
       "    <tr>\n",
       "      <th>std</th>\n",
       "      <td>0.460288</td>\n",
       "    </tr>\n",
       "    <tr>\n",
       "      <th>min</th>\n",
       "      <td>0.000000</td>\n",
       "    </tr>\n",
       "    <tr>\n",
       "      <th>25%</th>\n",
       "      <td>0.000000</td>\n",
       "    </tr>\n",
       "    <tr>\n",
       "      <th>50%</th>\n",
       "      <td>0.020000</td>\n",
       "    </tr>\n",
       "    <tr>\n",
       "      <th>75%</th>\n",
       "      <td>0.130000</td>\n",
       "    </tr>\n",
       "    <tr>\n",
       "      <th>max</th>\n",
       "      <td>6.700000</td>\n",
       "    </tr>\n",
       "  </tbody>\n",
       "</table>\n",
       "</div>"
      ],
      "text/plain": [
       "       precipitation\n",
       "count    2015.000000\n",
       "mean        0.176462\n",
       "std         0.460288\n",
       "min         0.000000\n",
       "25%         0.000000\n",
       "50%         0.020000\n",
       "75%         0.130000\n",
       "max         6.700000"
      ]
     },
     "execution_count": 11,
     "metadata": {},
     "output_type": "execute_result"
    }
   ],
   "source": [
    "# Use Pandas to calcualte the summary statistics for the precipitation data\n",
    "result_df.describe()"
   ]
  },
  {
   "cell_type": "markdown",
   "metadata": {},
   "source": [
    "![describe](Images/describe.png)"
   ]
  },
  {
   "cell_type": "code",
   "execution_count": 12,
   "metadata": {},
   "outputs": [
    {
     "name": "stdout",
     "output_type": "stream",
     "text": [
      "There are  9  stations available in this dataset\n"
     ]
    }
   ],
   "source": [
    "# get information about Table \"Station\"\n",
    "#columns_in_S = inspector.get_columns('Station')\n",
    "#for i in columns_in_S:\n",
    "#    print(i['name'], i['type'])\n",
    "\n",
    "# Design a query to show how many stations are available in this dataset?   \n",
    "my_station=session.query(Station)\n",
    "\n",
    "\n",
    "########### alternative solution ################\n",
    "#total_station_number = 0\n",
    "\n",
    "#for items in my_station:\n",
    "    \n",
    "#    total_station_number = total_station_number + 1\n",
    "    \n",
    "#    print(items.id, items.station, items.name)\n",
    "#print(\"There are \", total_station_number, \" stations available in this dataset\")\n",
    "#################################################\n",
    "\n",
    "total_station_number = my_station.distinct().count()\n",
    "print(\"There are \", total_station_number, \" stations available in this dataset\")\n"
   ]
  },
  {
   "cell_type": "code",
   "execution_count": 13,
   "metadata": {},
   "outputs": [
    {
     "name": "stdout",
     "output_type": "stream",
     "text": [
      "('USC00519281', 2772)\n",
      "('USC00519397', 2724)\n",
      "('USC00513117', 2709)\n",
      "('USC00519523', 2669)\n",
      "('USC00516128', 2612)\n",
      "('USC00514830', 2202)\n",
      "('USC00511918', 1979)\n",
      "('USC00517948', 1372)\n",
      "('USC00518838', 511)\n",
      "[('USC00519281',), ('USC00519397',), ('USC00513117',), ('USC00519523',), ('USC00516128',), ('USC00514830',), ('USC00511918',), ('USC00517948',), ('USC00518838',)]\n"
     ]
    }
   ],
   "source": [
    "#define function \"station\"\n",
    "def station():\n",
    "    \n",
    "    # What are the most active stations? (i.e. what stations have the most rows)?\n",
    "    # List the stations and the counts in descending order.\n",
    "\n",
    "    #station_list=[]\n",
    "    #for items in my_station:\n",
    "    #    station_list.append(items.station)\n",
    "    #print(station_list)       \n",
    "\n",
    "    #same_station = session.query(*sel).filter(Measurement.station == Station.station).limit(10).all()\n",
    "    #print(same_station)  \n",
    "\n",
    "    #active_stations=session.query(Station.name, Station.station, func.count(Measurement.id)).\\\n",
    "    #    filter(Measurement.station == Station.station).\\\n",
    "    #    group_by(Station.name, Station.station).order_by(func.count(Measurement.id).desc())\n",
    "\n",
    "    most_active_stations_in_desc_order = session.query(Station.station, func.count(Measurement.id)).\\\n",
    "        filter(Measurement.station == Station.station).\\\n",
    "        group_by(Station.station).order_by(func.count(Measurement.id).desc())\n",
    "    \n",
    "    for item in most_active_stations_in_desc_order :\n",
    "        print(item)\n",
    "        \n",
    "    #get the list of station names ONLY\n",
    "    most_active_stations_in_desc_order_2 = session.query(Station.station).\\\n",
    "        filter(Measurement.station == Station.station).\\\n",
    "        group_by(Station.station).order_by(func.count(Measurement.id).desc())\n",
    "    \n",
    "    list_of_stations=[]\n",
    "    \n",
    "    for item in most_active_stations_in_desc_order_2 :\n",
    "        list_of_stations.append(item)\n",
    "        \n",
    "    print(list_of_stations)\n",
    "\n",
    "    return list_of_stations\n",
    "\n",
    "result_list_of_stations = station()"
   ]
  },
  {
   "cell_type": "code",
   "execution_count": 14,
   "metadata": {},
   "outputs": [
    {
     "name": "stdout",
     "output_type": "stream",
     "text": [
      "(85.0, 54.0, 71.66378066378067)\n"
     ]
    }
   ],
   "source": [
    "# Using the station id from the previous query, calculate the lowest temperature recorded, \n",
    "# highest temperature recorded, and average temperature most active station?\n",
    "def min_avg_max():\n",
    "    most_active_station_1 = result_list_of_stations[0][0]\n",
    "\n",
    "    station_temperatures = session.query(func.max(Measurement.tobs),\\\n",
    "                                     func.min(Measurement.tobs),\\\n",
    "                                     func.avg(Measurement.tobs)).\\\n",
    "                        filter(Measurement.station == most_active_station_1).all()\n",
    "\n",
    "    for item in station_temperatures:\n",
    "        print(item)\n",
    "        \n",
    "min_avg_max()"
   ]
  },
  {
   "cell_type": "code",
   "execution_count": 15,
   "metadata": {},
   "outputs": [
    {
     "name": "stdout",
     "output_type": "stream",
     "text": [
      "USC00519281\n",
      "End date:  2017-08-23\n"
     ]
    },
    {
     "data": {
      "image/png": "[encoded data removed]",
      "text/plain": [
       "<Figure size 432x288 with 1 Axes>"
      ]
     },
     "metadata": {},
     "output_type": "display_data"
    }
   ],
   "source": [
    "# Choose the station with the highest number of temperature observations.\n",
    "# Query the last 12 months of temperature observation data for this station and plot the results as a histogram\n",
    "def tobs():\n",
    "    most_active_station_2 = result_list_of_stations[0][0]\n",
    "    print(most_active_station_2)\n",
    "    \n",
    "    \n",
    "    # Latest Date in the table\n",
    "    Latest_Date = session.query(Measurement.date).order_by(Measurement.date.desc()).first()[0]\n",
    "    query_end_date=Latest_Date\n",
    "    print(f\"End date: \", query_end_date)\n",
    "    # Calculate the date 1 year ago from the last data point in the database\n",
    "    query_start_date = dt.datetime.strptime(query_end_date, \"%Y-%m-%d\") - dt.timedelta(days=365)\n",
    "    \n",
    "    \n",
    "    tob_query_result=session.query(Measurement.date, Measurement.tobs).\\\n",
    "        filter(Measurement.station == most_active_station_2).\\\n",
    "        filter(Measurement.date > query_start_date).\\\n",
    "        filter(Measurement.date <= query_end_date).all()\n",
    "\n",
    "    # Save the query results as a Pandas DataFrame and set the index to the date column\n",
    "    tob_df = pd.DataFrame(tob_query_result, columns=['date', 'tobs'])\n",
    "    tob_df.set_index('date', inplace=True)\n",
    "    #print(tob_df.head())\n",
    "\n",
    "    # Sort the dataframe by date\n",
    "    sorted_tob_df = tob_df.sort_index(ascending=True)\n",
    "    #print(sorted_tob_df.head())\n",
    "    \n",
    "\n",
    "    # Use Pandas Plotting with Matplotlib to plot the data\n",
    "    tob_df.plot(kind=\"hist\")\n",
    "    #plt.tight_layout()\n",
    "    plt.show()\n",
    "    \n",
    "    return sorted_tob_df\n",
    "    \n",
    "result_tob_list=tobs()"
   ]
  },
  {
   "cell_type": "markdown",
   "metadata": {},
   "source": [
    "![precipitation](Images/station-histogram.png)"
   ]
  },
  {
   "cell_type": "code",
   "execution_count": 16,
   "metadata": {},
   "outputs": [
    {
     "name": "stdout",
     "output_type": "stream",
     "text": [
      "[(62.0, 69.57142857142857, 74.0)]\n"
     ]
    }
   ],
   "source": [
    "# This function called `calc_temps` will accept start date and end date in the format '%Y-%m-%d' \n",
    "# and return the minimum, average, and maximum temperatures for that range of dates\n",
    "def calc_temps(start_date, end_date):\n",
    "    \"\"\"TMIN, TAVG, and TMAX for a list of dates.\n",
    "    \n",
    "    Args:\n",
    "        start_date (string): A date string in the format %Y-%m-%d\n",
    "        end_date (string): A date string in the format %Y-%m-%d\n",
    "        \n",
    "    Returns:\n",
    "        TMIN, TAVE, and TMAX\n",
    "    \"\"\"\n",
    "    \n",
    "    return session.query(func.min(Measurement.tobs), func.avg(Measurement.tobs), func.max(Measurement.tobs)).\\\n",
    "        filter(Measurement.date >= start_date).filter(Measurement.date <= end_date).all()\n",
    "\n",
    "# function usage example\n",
    "print(calc_temps('2012-02-28', '2012-03-05'))"
   ]
  },
  {
   "cell_type": "code",
   "execution_count": 17,
   "metadata": {},
   "outputs": [
    {
     "name": "stdout",
     "output_type": "stream",
     "text": [
      "62.0 69.4375 74.0\n"
     ]
    }
   ],
   "source": [
    "def min_avg_max():\n",
    "    \n",
    "    # Use your previous function `calc_temps` to calculate the tmin, tavg, and tmax \n",
    "    # for your trip using the previous year's data for those same dates.\n",
    "\n",
    "    my_trip_start_date = '2013-02-28'\n",
    "    my_trip_end_date = '2013-03-05'\n",
    "\n",
    "    query_trip_start_date = dt.datetime.strptime(my_trip_start_date, \"%Y-%m-%d\") - dt.timedelta(days=366)\n",
    "    query_trip_end_date = dt.datetime.strptime(my_trip_end_date, \"%Y-%m-%d\") - dt.timedelta(days=365)\n",
    "\n",
    "    #print(query_trip_start_date, query_trip_end_date)\n",
    "\n",
    "    exp_temps = calc_temps(query_trip_start_date, query_trip_end_date)\n",
    "    min_temp = exp_temps[0][0]\n",
    "    avg_temp = exp_temps[0][1]\n",
    "    max_temp = exp_temps[0][2]\n",
    "\n",
    "    print(min_temp, avg_temp, max_temp)\n",
    "\n",
    "    return exp_temps[0]\n",
    "\n",
    "result_min_avg_max = min_avg_max()"
   ]
  },
  {
   "cell_type": "code",
   "execution_count": 19,
   "metadata": {},
   "outputs": [
    {
     "data": {
      "image/png": "[encoded data removed]",
      "text/plain": [
       "<Figure size 432x288 with 1 Axes>"
      ]
     },
     "metadata": {},
     "output_type": "display_data"
    }
   ],
   "source": [
    "# Plot the results from your previous query as a bar chart. \n",
    "# Use \"Trip Avg Temp\" as your Title\n",
    "# Use the average temperature for the y value\n",
    "# Use the peak-to-peak (tmax-tmin) value as the y error bar (yerr)\n",
    "\n",
    "min_temp = result_min_avg_max[0]\n",
    "avg_temp = result_min_avg_max[1]\n",
    "max_temp = result_min_avg_max[2]\n",
    "\n",
    "yerror = max_temp - min_temp\n",
    "\n",
    "barvalue = [avg_temp]\n",
    "xvals = range(len(barvalue))\n",
    "\n",
    "fig,ax = plt.subplots()\n",
    "ax.bar(xvals, barvalue, yerr=yerror, color='pink')\n",
    "plt.show()"
   ]
  },
  {
   "cell_type": "code",
   "execution_count": 21,
   "metadata": {},
   "outputs": [
    {
     "name": "stdout",
     "output_type": "stream",
     "text": [
      "('USC00517948', 'PEARL CITY, HI US', 21.3934, -157.9751, 11.9, None)\n",
      "('USC00514830', 'KUALOA RANCH HEADQUARTERS 886.9, HI US', 21.5213, -157.8374, 7.0, 0.0)\n",
      "('USC00511918', 'HONOLULU OBSERVATORY 702.2, HI US', 21.3152, -157.9992, 0.9, 0.12666666666666668)\n",
      "('USC00519397', 'WAIKIKI 717.2, HI US', 21.2716, -157.8168, 3.0, 0.19666666666666668)\n",
      "('USC00519523', 'WAIMANALO EXPERIMENTAL FARM, HI US', 21.33556, -157.71139, 19.5, 0.48666666666666664)\n",
      "('USC00518838', 'UPPER WAHIAWA 874.3, HI US', 21.4992, -158.0111, 306.6, 0.9600000000000001)\n",
      "('USC00513117', 'KANEOHE 838.1, HI US', 21.4234, -157.8015, 14.6, 0.965)\n",
      "('USC00516128', 'MANOA LYON ARBO 785.2, HI US', 21.3331, -157.8025, 152.4, 1.6533333333333333)\n",
      "('USC00519281', 'WAIHEE 837.5, HI US', 21.45167, -157.84888999999998, 32.9, 1.8383333333333336)\n"
     ]
    }
   ],
   "source": [
    "# Calculate the rainfall per weather station for your trip dates using the previous year's matching dates.\n",
    "# Sort this in descending order by precipitation amount and list the station, name, latitude, longitude, and elevation\n",
    "\n",
    "my_trip_start_date = '2013-02-28'\n",
    "my_trip_end_date = '2013-03-05'\n",
    "\n",
    "query_trip_start_date = dt.datetime.strptime(my_trip_start_date, \"%Y-%m-%d\") - dt.timedelta(days=366)\n",
    "query_trip_end_date = dt.datetime.strptime(my_trip_end_date, \"%Y-%m-%d\") - dt.timedelta(days=365)\n",
    "\n",
    "rainfall_per_station = session.query(Station.station, Station.name, Station.latitude, Station.longitude, Station.elevation, func.avg(Measurement.prcp)).\\\n",
    "                    filter(Measurement.station == Station.station).\\\n",
    "                    filter(Measurement.date >= query_trip_start_date).\\\n",
    "                    filter(Measurement.date <= query_trip_end_date).\\\n",
    "            group_by(Station.station).order_by(func.avg(Measurement.prcp)).all()\n",
    "\n",
    "for item in rainfall_per_station:\n",
    "    print(item)\n"
   ]
  },
  {
   "cell_type": "markdown",
   "metadata": {},
   "source": [
    "## Optional Challenge Assignment"
   ]
  },
  {
   "cell_type": "code",
   "execution_count": null,
   "metadata": {},
   "outputs": [],
   "source": [
    "# Create a query that will calculate the daily normals \n",
    "# (i.e. the averages for tmin, tmax, and tavg for all historic data matching a specific month and day)\n",
    "\n",
    "def daily_normals(date):\n",
    "    \"\"\"Daily Normals.\n",
    "    \n",
    "    Args:\n",
    "        date (str): A date string in the format '%m-%d'\n",
    "        \n",
    "    Returns:\n",
    "        A list of tuples containing the daily normals, tmin, tavg, and tmax\n",
    "    \n",
    "    \"\"\"\n",
    "    \n",
    "    sel = [func.min(Measurement.tobs), func.avg(Measurement.tobs), func.max(Measurement.tobs)]\n",
    "    return session.query(*sel).filter(func.strftime(\"%m-%d\", Measurement.date) == date).all()\n",
    "    \n",
    "daily_normals(\"01-01\")"
   ]
  },
  {
   "cell_type": "code",
   "execution_count": null,
   "metadata": {},
   "outputs": [],
   "source": [
    "# calculate the daily normals for your trip\n",
    "# push each tuple of calculations into a list called `normals`\n",
    "\n",
    "# Set the start and end date of the trip\n",
    "\n",
    "# Use the start and end date to create a range of dates\n",
    "\n",
    "# Stip off the year and save a list of %m-%d strings\n",
    "\n",
    "# Loop through the list of %m-%d strings and calculate the normals for each date\n"
   ]
  },
  {
   "cell_type": "code",
   "execution_count": null,
   "metadata": {},
   "outputs": [],
   "source": [
    "# Load the previous query results into a Pandas DataFrame and add the `trip_dates` range as the `date` index\n"
   ]
  },
  {
   "cell_type": "code",
   "execution_count": null,
   "metadata": {},
   "outputs": [],
   "source": [
    "# Plot the daily normals as an area plot with `stacked=False`\n"
   ]
  }
 ],
 "metadata": {
  "kernel_info": {
   "name": "python3"
  },
  "kernelspec": {
   "display_name": "Python 3",
   "language": "python",
   "name": "python3"
  },
  "language_info": {
   "codemirror_mode": {
    "name": "ipython",
    "version": 3
   },
   "file_extension": ".py",
   "mimetype": "text/x-python",
   "name": "python",
   "nbconvert_exporter": "python",
   "pygments_lexer": "ipython3",
   "version": "3.6.5"
  },
  "nteract": {
   "version": "0.9.1"
  },
  "varInspector": {
   "cols": {
    "lenName": 16,
    "lenType": 16,
    "lenVar": 40
   },
   "kernels_config": {
    "python": {
     "delete_cmd_postfix": "",
     "delete_cmd_prefix": "del ",
     "library": "var_list.py",
     "varRefreshCmd": "print(var_dic_list())"
    },
    "r": {
     "delete_cmd_postfix": ") ",
     "delete_cmd_prefix": "rm(",
     "library": "var_list.r",
     "varRefreshCmd": "cat(var_dic_list()) "
    }
   },
   "types_to_exclude": [
    "module",
    "function",
    "builtin_function_or_method",
    "instance",
    "_Feature"
   ],
   "window_display": false
  }
 },
 "nbformat": 4,
 "nbformat_minor": 2
}
